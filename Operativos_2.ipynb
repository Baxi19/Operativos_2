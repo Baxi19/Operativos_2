{
  "nbformat": 4,
  "nbformat_minor": 0,
  "metadata": {
    "colab": {
      "name": "Operativos-2.ipynb",
      "provenance": [],
      "collapsed_sections": [],
      "include_colab_link": true
    },
    "kernelspec": {
      "name": "python3",
      "display_name": "Python 3"
    },
    "language_info": {
      "name": "python"
    }
  },
  "cells": [
    {
      "cell_type": "markdown",
      "metadata": {
        "id": "view-in-github",
        "colab_type": "text"
      },
      "source": [
        "<a href=\"https://colab.research.google.com/github/Baxi19/Operativos_2/blob/main/Operativos_2.ipynb\" target=\"_parent\"><img src=\"https://colab.research.google.com/assets/colab-badge.svg\" alt=\"Open In Colab\"/></a>"
      ]
    },
    {
      "cell_type": "markdown",
      "metadata": {
        "id": "VxPYvaeKj3Dh"
      },
      "source": [
        "**Principios de Sistemas Operativos - Proyecto 2**\n",
        "\n",
        "*   Kevin Camacho Araya\n",
        "*   Jazmine Espinoza Palma\n",
        "*   Randald Villegas Brenes\n",
        "\n",
        "\n"
      ]
    },
    {
      "cell_type": "code",
      "metadata": {
        "id": "V7SSAcyFXk7I"
      },
      "source": [
        "!pip install kora -q\n",
        "from kora.selenium import wd\n",
        "from bs4 import BeautifulSoup\n",
        "import bs4\n",
        "import requests\n",
        "\n",
        "#Model\n",
        "%matplotlib inline\n",
        "import numpy as np\n",
        "import matplotlib.pyplot as plt\n",
        "import seaborn as sns; sns.set()\n",
        "from sklearn.datasets import fetch_20newsgroups\n",
        "\n",
        "# Import necesary packages\n",
        "from sklearn.feature_extraction.text import TfidfVectorizer\n",
        "from sklearn.naive_bayes import MultinomialNB\n",
        "from sklearn.pipeline import  make_pipeline"
      ],
      "execution_count": null,
      "outputs": []
    },
    {
      "cell_type": "code",
      "metadata": {
        "id": "bH5tvTbCaqaV"
      },
      "source": [
        "news = [];"
      ],
      "execution_count": null,
      "outputs": []
    },
    {
      "cell_type": "markdown",
      "metadata": {
        "id": "ew97tFnRW1IR"
      },
      "source": [
        "**Web Scrapping de Noticias:**\n",
        "*   CNET\n",
        "*   FOX\n",
        "*   NPR\n",
        "*   THE NEWS"
      ]
    },
    {
      "cell_type": "code",
      "metadata": {
        "id": "BMtwI26RWz_l"
      },
      "source": [
        "def cnet():\n",
        "  HOME_URL = \"https://www.cnet.com/tech-enabled/\"\n",
        "  XPATH_TITLE = '//div[contains(@class, \"c-premiumList_link\")]'\n",
        "  XPATH_BODY = '//div[contains(@class, \"c-premiumList_desc\")]'\n",
        "\n",
        "  wd.get(HOME_URL)\n",
        "  all_news = wd.find_elements_by_xpath(XPATH_TITLE)\n",
        "  all_body = wd.find_elements_by_xpath(XPATH_BODY)\n",
        "\n",
        "  i = 0\n",
        "  print(\"CNET News > Start..\")\n",
        "  for new in all_news:\n",
        "    news.append({\n",
        "        \"title\": new.get_property(\"innerText\"),\n",
        "        \"body\": (all_body[i].get_property(\"innerText\"))\n",
        "        }\n",
        "        )\n",
        "    i += 1\n",
        "    \n",
        "  print(\"CNET News > End..\")"
      ],
      "execution_count": null,
      "outputs": []
    },
    {
      "cell_type": "code",
      "metadata": {
        "id": "LXQ1x0JlbdGb"
      },
      "source": [
        "def fox():\n",
        "  HOME_URL = \"https://www.foxnews.com/us\"\n",
        "  XPATH_TITLE = '//section[contains(@class, \"collection-article-list\")]//div[contains(@class, \"info\")]/header//h4[contains(@class, \"title\")]'\n",
        "  XPATH_BODY = '//section[contains(@class, \"collection-article-list\")]//div[contains(@class, \"info\")]/div[contains(@class, \"content\")]'\n",
        "\n",
        "  wd.get(HOME_URL)\n",
        "  all_news = wd.find_elements_by_xpath(XPATH_TITLE)\n",
        "  all_body = wd.find_elements_by_xpath(XPATH_BODY)\n",
        "\n",
        "  i = 0\n",
        "  print(\"FOX News > Start..\")\n",
        "  for new in all_news:\n",
        "    news.append({\n",
        "        \"title\": new.get_property(\"innerText\"),\n",
        "        \"body\": (all_body[i].get_property(\"innerText\"))\n",
        "        }\n",
        "        )\n",
        "    i += 1\n",
        "    \n",
        "  print(\"FOX News > End..\")"
      ],
      "execution_count": null,
      "outputs": []
    },
    {
      "cell_type": "code",
      "metadata": {
        "id": "teXYNQckbkki"
      },
      "source": [
        "def npr():\n",
        "  HOME_URL = \"https://www.npr.org/sections/news/\"\n",
        "  XPATH_TITLE = '//div[contains(@class, \"list-overflow\")]//article[contains(@class, \"item\")]//h2[contains(@class, \"title\")]'\n",
        "  XPATH_BODY = '//div[contains(@class, \"list-overflow\")]//article[contains(@class, \"item\")]//p[contains(@class, \"teaser\")]'\n",
        "\n",
        "  wd.get(HOME_URL)\n",
        "  all_news = wd.find_elements_by_xpath(XPATH_TITLE)\n",
        "  all_body = wd.find_elements_by_xpath(XPATH_BODY)\n",
        "\n",
        "  i = 0\n",
        "  print(\"NPR - National Public Radio > Start..\")\n",
        "  for new in all_news:\n",
        "    news.append({\n",
        "        \"title\": new.get_property(\"innerText\"),\n",
        "        \"body\": (all_body[i].get_property(\"innerText\")).split(\"• \")[1]\n",
        "        }\n",
        "        )\n",
        "    i += 1\n",
        "    \n",
        "  print(\"NPR - National Public Radio > End..\")"
      ],
      "execution_count": null,
      "outputs": []
    },
    {
      "cell_type": "code",
      "metadata": {
        "id": "H0vGnzapYlvO"
      },
      "source": [
        "def find():\n",
        "    scraper = Scraper()\n",
        "    query = Query()\n",
        "    info=query.get_url()\n",
        "    #scraper.get(info[0][\"link\"])\n",
        "    for x in info:\n",
        "        Body=scraper.get(x[\"link\"])\n",
        "        news.append({\"title\":x[\"title\"],\"body\":Body})\n",
        "    #print(len(news))\n",
        "    print(news)\n",
        "    return news    \n",
        "class Response(object):\n",
        "    def __init__(self, status, content):\n",
        "        self.status = status\n",
        "        self.content = content\n",
        "\n",
        "    def valid(self):\n",
        "        return (self.status == 200)\n",
        "class Browser(object):\n",
        "    def get(self, url):\n",
        "        headers = {\n",
        "            'User-Agent': 'Mozilla/5.0 (Macintosh; Intel Mac OS X 10_11_5) AppleWebKit/537.36 (KHTML, like Gecko) Chrome/50.0.2661.102 Safari/537.36'}\n",
        "        request = requests.get(url, headers=headers)\n",
        "\n",
        "        response = Response(request.status_code, request.content)\n",
        "        return response\n",
        "\n",
        "class Query(object):\n",
        "    # Standard constructor (w/ parameters)\n",
        "    def __init__(self):\n",
        "       \n",
        "        self.url =\"https://www.thenews.com.pk\"\n",
        "    # Returns the URL of the created query\n",
        "\n",
        "    def get_url(self):\n",
        "        scra = Scraper()\n",
        "        return scra.search(self.url)\n",
        "       \n",
        "\n",
        "class Scraper(object):\n",
        "    def __init__(self):\n",
        "        self.browser = Browser()\n",
        "        self.response = \"\"\n",
        "        self.soup = \"\"\n",
        "\n",
        "    def get(self, url):\n",
        "        self.response = self.browser.get(url)\n",
        "\n",
        "        self.soup = bs4.BeautifulSoup(\n",
        "            self.response.content, features=\"html.parser\")\n",
        "\n",
        "        return self.get_desc()\n",
        "\n",
        "    def search(self, url):\n",
        "        self.response = self.browser.get(url)\n",
        "\n",
        "        self.soup = bs4.BeautifulSoup(\n",
        "            self.response.content, features=\"html.parser\")\n",
        "\n",
        "        return self.extract_url()\n",
        "\n",
        "    def extract_url(self):\n",
        "        lista1 = self.soup.find_all(\"div\",class_=\"laodMoreNews latestNews home_latest_bottom\")\n",
        "        lista2=lista1[0].find_all(\"li\") \n",
        "        lista3=[]     \n",
        "        \n",
        "        for x in lista2:\n",
        "            lista3.append({\"title\":x.a[\"data-article_name\"],\"link\":x.a[\"href\"]})\n",
        "            #print(x.a[\"data-article_name\"])\n",
        "        \n",
        "        return lista3\n",
        "\n",
        "    def get_desc(self):\n",
        "        lista1=self.soup.find_all(\"div\",class_=\"story-detail\")\n",
        "        #print(len(lista1))\n",
        "        lista2=lista1[0].find_all(\"p\")\n",
        "        text=\"\"\n",
        "        for x in lista2:\n",
        "            text+=x.text\n",
        "        #print(text)\n",
        "        #print(len(lista2))\n",
        "        return text"
      ],
      "execution_count": null,
      "outputs": []
    },
    {
      "cell_type": "code",
      "metadata": {
        "id": "xaGcriOpa2kS"
      },
      "source": [
        "cnet()\n",
        "fox()\n",
        "npr()\n",
        "find()"
      ],
      "execution_count": null,
      "outputs": []
    },
    {
      "cell_type": "markdown",
      "metadata": {
        "id": "RquRCJSUia0l"
      },
      "source": [
        "**Creación del Modelo**"
      ]
    },
    {
      "cell_type": "code",
      "metadata": {
        "colab": {
          "base_uri": "https://localhost:8080/"
        },
        "id": "c1_FxeB7Y14V",
        "outputId": "9b796811-5e07-4909-caa0-b7d690ade667"
      },
      "source": [
        "# Data to work\n",
        "data = fetch_20newsgroups()\n",
        "\n",
        "# Show all the categories\n",
        "data.target_names"
      ],
      "execution_count": null,
      "outputs": [
        {
          "output_type": "execute_result",
          "data": {
            "text/plain": [
              "['alt.atheism',\n",
              " 'comp.graphics',\n",
              " 'comp.os.ms-windows.misc',\n",
              " 'comp.sys.ibm.pc.hardware',\n",
              " 'comp.sys.mac.hardware',\n",
              " 'comp.windows.x',\n",
              " 'misc.forsale',\n",
              " 'rec.autos',\n",
              " 'rec.motorcycles',\n",
              " 'rec.sport.baseball',\n",
              " 'rec.sport.hockey',\n",
              " 'sci.crypt',\n",
              " 'sci.electronics',\n",
              " 'sci.med',\n",
              " 'sci.space',\n",
              " 'soc.religion.christian',\n",
              " 'talk.politics.guns',\n",
              " 'talk.politics.mideast',\n",
              " 'talk.politics.misc',\n",
              " 'talk.religion.misc']"
            ]
          },
          "metadata": {
            "tags": []
          },
          "execution_count": 28
        }
      ]
    },
    {
      "cell_type": "code",
      "metadata": {
        "id": "AbGcNMNeZ1eR"
      },
      "source": [
        "# Defining all the categories\n",
        "categories = ['alt.atheism',\n",
        " 'comp.graphics',\n",
        " 'comp.os.ms-windows.misc',\n",
        " 'comp.sys.ibm.pc.hardware',\n",
        " 'comp.sys.mac.hardware',\n",
        " 'comp.windows.x',\n",
        " 'misc.forsale',\n",
        " 'rec.autos',\n",
        " 'rec.motorcycles',\n",
        " 'rec.sport.baseball',\n",
        " 'rec.sport.hockey',\n",
        " 'sci.crypt',\n",
        " 'sci.electronics',\n",
        " 'sci.med',\n",
        " 'sci.space',\n",
        " 'soc.religion.christian',\n",
        " 'talk.politics.guns',\n",
        " 'talk.politics.mideast',\n",
        " 'talk.politics.misc',\n",
        " 'talk.religion.misc']"
      ],
      "execution_count": null,
      "outputs": []
    },
    {
      "cell_type": "code",
      "metadata": {
        "id": "t60gpu-cZ12k"
      },
      "source": [
        "# Training the data on these categories\n",
        "train = fetch_20newsgroups(subset='train', categories=categories)\n",
        "\n",
        "# Testing the data on these categories\n",
        "test = fetch_20newsgroups(subset='test', categories=categories)"
      ],
      "execution_count": null,
      "outputs": []
    },
    {
      "cell_type": "code",
      "metadata": {
        "colab": {
          "base_uri": "https://localhost:8080/"
        },
        "id": "muMsESQ3Z1-W",
        "outputId": "1917ce91-88ef-4508-f5f0-3d80f57b13cb"
      },
      "source": [
        "# Print data size\n",
        "print(\"Train Size: \" + str(len(train.data)))\n",
        "print(\"Test Size: \" + str(len(test.data)))"
      ],
      "execution_count": null,
      "outputs": [
        {
          "output_type": "stream",
          "text": [
            "Train Size: 11314\n",
            "Test Size: 7532\n"
          ],
          "name": "stdout"
        }
      ]
    },
    {
      "cell_type": "code",
      "metadata": {
        "colab": {
          "base_uri": "https://localhost:8080/"
        },
        "id": "cnhsUuARbR1G",
        "outputId": "21dc564a-b375-41b1-dc65-44353cf64ad5"
      },
      "source": [
        "# Print data item\n",
        "print(train.data[5])\n",
        "#print(test.data[5])"
      ],
      "execution_count": null,
      "outputs": [
        {
          "output_type": "stream",
          "text": [
            "From: dfo@vttoulu.tko.vtt.fi (Foxvog Douglas)\n",
            "Subject: Re: Rewording the Second Amendment (ideas)\n",
            "Organization: VTT\n",
            "Lines: 58\n",
            "\n",
            "In article <1r1eu1$4t@transfer.stratus.com> cdt@sw.stratus.com (C. D. Tavares) writes:\n",
            ">In article <1993Apr20.083057.16899@ousrvr.oulu.fi>, dfo@vttoulu.tko.vtt.fi (Foxvog Douglas) writes:\n",
            ">> In article <1qv87v$4j3@transfer.stratus.com> cdt@sw.stratus.com (C. D. Tavares) writes:\n",
            ">> >In article <C5n3GI.F8F@ulowell.ulowell.edu>, jrutledg@cs.ulowell.edu (John Lawrence Rutledge) writes:\n",
            ">\n",
            ">> >> The massive destructive power of many modern weapons, makes the\n",
            ">> >> cost of an accidental or crimial usage of these weapons to great.\n",
            ">> >> The weapons of mass destruction need to be in the control of\n",
            ">> >> the government only.  Individual access would result in the\n",
            ">> >> needless deaths of millions.  This makes the right of the people\n",
            ">> >> to keep and bear many modern weapons non-existant.\n",
            "\n",
            ">> >Thanks for stating where you're coming from.  Needless to say, I\n",
            ">> >disagree on every count.\n",
            "\n",
            ">> You believe that individuals should have the right to own weapons of\n",
            ">> mass destruction?  I find it hard to believe that you would support a \n",
            ">> neighbor's right to keep nuclear weapons, biological weapons, and nerve\n",
            ">> gas on his/her property.  \n",
            "\n",
            ">> If we cannot even agree on keeping weapons of mass destruction out of\n",
            ">> the hands of individuals, can there be any hope for us?\n",
            "\n",
            ">I don't sign any blank checks.\n",
            "\n",
            "Of course.  The term must be rigidly defined in any bill.\n",
            "\n",
            ">When Doug Foxvog says \"weapons of mass destruction,\" he means CBW and\n",
            ">nukes.  When Sarah Brady says \"weapons of mass destruction\" she means\n",
            ">Street Sweeper shotguns and semi-automatic SKS rifles.  \n",
            "\n",
            "I doubt she uses this term for that.  You are using a quote allegedly\n",
            "from her, can you back it up?\n",
            "\n",
            ">When John\n",
            ">Lawrence Rutledge says \"weapons of mass destruction,\" and then immediately\n",
            ">follows it with:\n",
            "\n",
            ">>> The US has thousands of people killed each year by handguns,\n",
            ">>> this number can easily be reduced by putting reasonable restrictions\n",
            ">>> on them.\n",
            "\n",
            ">...what does Rutledge mean by the term?\n",
            "\n",
            "I read the article as presenting first an argument about weapons of mass\n",
            "destruction (as commonly understood) and then switching to other topics.\n",
            "The first point evidently was to show that not all weapons should be\n",
            "allowed, and then the later analysis was, given this understanding, to\n",
            "consider another class.\n",
            "\n",
            ">cdt@rocket.sw.stratus.com   --If you believe that I speak for my company,\n",
            ">OR cdt@vos.stratus.com        write today for my special Investors' Packet...\n",
            "\n",
            "\n",
            "\n",
            "-- \n",
            "doug foxvog\n",
            "douglas.foxvog@vtt.fi\n",
            "\n"
          ],
          "name": "stdout"
        }
      ]
    },
    {
      "cell_type": "code",
      "metadata": {
        "id": "mR_ucNifbR5L"
      },
      "source": [
        "# Creating a model based on Multinomial Naive Bayes\n",
        "model = make_pipeline(TfidfVectorizer(), MultinomialNB())\n",
        "\n",
        "#Training the model with the train data\n",
        "model.fit(train.data, train.target)\n",
        "\n",
        "# Creating labels for the test data\n",
        "labels = model.predict(test.data)"
      ],
      "execution_count": null,
      "outputs": []
    },
    {
      "cell_type": "code",
      "metadata": {
        "colab": {
          "base_uri": "https://localhost:8080/",
          "height": 442
        },
        "id": "toqy5Ek6bR8U",
        "outputId": "0a1a619b-afc9-4236-84ae-79b3a631ed0b"
      },
      "source": [
        "# Creating confusion matrix and heat map\n",
        "from sklearn.metrics import confusion_matrix\n",
        "\n",
        "mat = confusion_matrix(test.target, labels)\n",
        "sns.heatmap(mat.T, square=True, annot=True, fmt='d', cbar=False, xticklabels=train.target_names, yticklabels=train.target_names)\n",
        "\n",
        "# Plotting Heatmap of Confusion Matrix\n",
        "plt.xlabel('True label')\n",
        "plt.ylabel('Predicted label')"
      ],
      "execution_count": null,
      "outputs": [
        {
          "output_type": "execute_result",
          "data": {
            "text/plain": [
              "Text(89.17999999999999, 0.5, 'Predicted label')"
            ]
          },
          "metadata": {
            "tags": []
          },
          "execution_count": 35
        },
        {
          "output_type": "display_data",
          "data": {
            "image/png": "[encoded data removed]",
            "text/plain": [
              "<Figure size 432x288 with 1 Axes>"
            ]
          },
          "metadata": {
            "tags": []
          }
        }
      ]
    },
    {
      "cell_type": "code",
      "metadata": {
        "id": "DXxh4mWPbR_b"
      },
      "source": [
        "# Predicting category on new data based on trained model\n",
        "def predict_category(s, train=train, model=model):\n",
        "  pred = model.predict([s])\n",
        "  return train.target_names[pred[0]]"
      ],
      "execution_count": null,
      "outputs": []
    },
    {
      "cell_type": "markdown",
      "metadata": {
        "id": "i6RRFiqoi33o"
      },
      "source": [
        "**Test del modelo**"
      ]
    },
    {
      "cell_type": "code",
      "metadata": {
        "id": "QKySBAI7fisH"
      },
      "source": [
        "for new in news:\n",
        "  new[\"predict\"] = predict_category(\"title: \" + new[\"title\"] + \"\\n\" + \"body: \" + new[\"body\"])"
      ],
      "execution_count": null,
      "outputs": []
    },
    {
      "cell_type": "markdown",
      "metadata": {
        "id": "kpcd2SXqi770"
      },
      "source": [
        "**Resultados obtenidos**"
      ]
    },
    {
      "cell_type": "code",
      "metadata": {
        "colab": {
          "base_uri": "https://localhost:8080/"
        },
        "id": "sgUiFao1g9La",
        "outputId": "d9c25712-b248-4436-ec02-9f1b72a8c9c1"
      },
      "source": [
        "for new in news:\n",
        "  print(\"\\n\\n\\nTitle: \" + new[\"title\"] + \"\\n\" + \"Body: \" + new[\"body\"] + \"\\nPredict: \" + new[\"predict\"])\n",
        "\n",
        "print(len(news))"
      ],
      "execution_count": null,
      "outputs": [
        {
          "output_type": "stream",
          "text": [
            "\n",
            "\n",
            "\n",
            "Title: Where Clubhouse and Twitter Spaces fall short\n",
            "Body: Good luck trying to participate in live audio chats if you have hearing loss. But improvements are in the works.\n",
            "Predict: soc.religion.christian\n",
            "\n",
            "\n",
            "\n",
            "Title: COVID-19 showed digital accessibility is critical. Advocates don't want you to forget\n",
            "Body: As more people get vaccinated and the world reopens, experts say remote work, virtual events and e-commerce sites should still cater to people with disabilities.\n",
            "Predict: sci.crypt\n",
            "\n",
            "\n",
            "\n",
            "Title: Apple brings sign language support to its stores, plans new accessibility features\n",
            "Body: A new feature will let people who only have the use of one arm control an Apple Watch by clenching their fist or pinching their fingers.\n",
            "Predict: soc.religion.christian\n",
            "\n",
            "\n",
            "\n",
            "Title: Instagram Stories adds auto-caption sticker so you can watch without sound\n",
            "Body: It's a feature accessibility advocates have long requested.\n",
            "Predict: rec.autos\n",
            "\n",
            "\n",
            "\n",
            "Title: Tech accessibility is lagging. Here's why that needs to change\n",
            "Body: People with disabilities are often overlooked in product design, shutting millions out. More companies are recognizing the problem.\n",
            "Predict: sci.crypt\n",
            "\n",
            "\n",
            "\n",
            "Title: Why tech accessibility matters, and the long road to improving it\n",
            "Body: A growing list of companies including Google and Apple are incorporating more accessible design, but progress lags. Here's why experts say that needs to change.\n",
            "Predict: sci.crypt\n",
            "\n",
            "\n",
            "\n",
            "Title: Google Chrome adds real-time, automatic captions for web content\n",
            "Body: Live Caption, first made available on Android, helps users who are deaf or hard of hearing access audio content.\n",
            "Predict: sci.crypt\n",
            "\n",
            "\n",
            "\n",
            "Title: Starbucks now offers access to app for blind, low-vision customers\n",
            "Body: The Aira app pairs customers with remote agents who can share product descriptions and other visual information.\n",
            "Predict: comp.windows.x\n",
            "\n",
            "\n",
            "\n",
            "Title: How speech to text, password managers and other tech helped me work with a broken collarbone\n",
            "Body: Commentary: Accessibility tech is steadily improving.\n",
            "Predict: sci.crypt\n",
            "\n",
            "\n",
            "\n",
            "Title: Android updates TalkBack screen reader with new voice commands, language options\n",
            "Body: The upgraded features are designed to help those who are blind or low vision more easily navigate their devices.\n",
            "Predict: sci.crypt\n",
            "\n",
            "\n",
            "\n",
            "Title: Apple Safari builds speech recognition into the web with MacOS 11.3\n",
            "Body: Google Chrome and Microsoft Edge already can turn your words into text.\n",
            "Predict: sci.crypt\n",
            "\n",
            "\n",
            "\n",
            "Title: Facebook improves alt text photo descriptions for blind, visually impaired users\n",
            "Body: The feature can now recognize landmarks, activities and types of animals.\n",
            "Predict: alt.atheism\n",
            "\n",
            "\n",
            "\n",
            "Title: Samsung makes its 2021 TVs more accessible for people with vision or hearing disabilities\n",
            "Body: The company also is developing new innovations that would use AI to make its TVs more accessible -- and is working on making its TVs respond to sign language commands.\n",
            "Predict: soc.religion.christian\n",
            "\n",
            "\n",
            "\n",
            "Title: New York City gun fight erupts in broad daylight as Wild West style shootout is captured on video\n",
            "Body: A street on Manhattan’s Upper West Side turned into a scene out of the wild west after two men opened fire on each other in broad daylight.\n",
            "Predict: talk.politics.guns\n",
            "\n",
            "\n",
            "\n",
            "Title: World War II veteran travels to South Carolina to give a final salute to the man who saved his life\n",
            "Body: World War II veteran Anthony Grasso is getting the chance to travel from Massachusetts to Frank Dubose's gravesite at Quaker Cemetary in Camden, South Carolina to give a final salute to the man who saved his life.\n",
            "Predict: soc.religion.christian\n",
            "\n",
            "\n",
            "\n",
            "Title: NYC shootout caught on camera in broad daylight\n",
            "Body: NYPD is asking for the public's help in ascertaining the whereabouts of two unidentified men wanted in connection with the shooting\n",
            "Predict: talk.politics.guns\n",
            "\n",
            "\n",
            "\n",
            "Title: 2 dead, 10 missing after boat overturns off Key West, Florida\n",
            "Body: At least two people died and 10 remained missing Thursday evening after a boat overturned 18 miles southwest of Key West, according to the U.S. Coast Guard.\n",
            "Predict: rec.sport.hockey\n",
            "\n",
            "\n",
            "\n",
            "Title: Barry Morphew's new defense team tangles with prosecutors in pretrial murder hearing\n",
            "Body: Barry Morphew was back in Colorado court on Thursday in connection with charges related to the disappearance and presumed death of his wife, Suzanne, who has not been seen for more than a year.\n",
            "Predict: talk.politics.guns\n",
            "\n",
            "\n",
            "\n",
            "Title: Florida teen stabbed Tristyn Bailey 114 times, told friends he ‘intended to kill someone,’ prosecutors say\n",
            "Body: A 14-year-old Florida boy is being charged as an adult with premeditated first-degree murder in the death of Tristyn Bailey, a 13-year-old girl who was found dead earlier this month.\n",
            "Predict: soc.religion.christian\n",
            "\n",
            "\n",
            "\n",
            "Title: Maine woman missing while visiting New York City, last seen in Times Square\n",
            "Body: Authorities in New York City are searching for a Maine woman who was last seen in Times Square this week before she vanished.\n",
            "Predict: soc.religion.christian\n",
            "\n",
            "\n",
            "\n",
            "Title: Who will be 'America's Top Ranger'?\n",
            "Body: Fox Nation's three-part documentary gives a look into the 2021 “Best Ranger” competition – the longest-running military contest in the U.S.\n",
            "Predict: soc.religion.christian\n",
            "\n",
            "\n",
            "\n",
            "Title: Widow of slain California transit employee says husband was her 'rock'\n",
            "Body: The widow of a California transit employee who was killed with eight others Wednesday by a colleague during a workplace shooting called him her \"rock\" and that he died in her arms.\n",
            "Predict: soc.religion.christian\n",
            "\n",
            "\n",
            "\n",
            "Title: Man accused of restaurant shooting charged in jail assault\n",
            "Body: The man accused of killing two workers and wounding two others during a shooting at a Nebraska fast-food restaurant last fall has been charged with stabbing a fellow jail inmate.\n",
            "Predict: talk.politics.guns\n",
            "\n",
            "\n",
            "\n",
            "Title: 'Possibility' Michigan Gov. Whitmer 'undercounting' COVID-19 nursing home deaths: Lawyers\n",
            "Body: There is a “possibility” the state of Michigan has been “undercounting” coronavirus-related nursing home deaths, according to lawyers at the Mackinac Center Legal Foundation.\n",
            "Predict: talk.politics.guns\n",
            "\n",
            "\n",
            "\n",
            "Title: 'Nothing looks good' preparing for summer wildfire season\n",
            "Body: Wearing soot-smudged, fire-resistant clothing and helmets, several wildland firefighters armed with hoes moved through a stand of ponderosa pines as flames tore through the underbrush.\n",
            "Predict: rec.motorcycles\n",
            "\n",
            "\n",
            "\n",
            "Title: New technology brings photos of fallen US soldiers to life with color, animation\n",
            "Body: Genealogy website MyHeritage is providing families a unique way to observe Memorial Day – by reconnecting them with departed loved ones. \n",
            "Predict: soc.religion.christian\n",
            "\n",
            "\n",
            "\n",
            "Title: War journalist discovers truth about freedom\n",
            "Body: 'Freedom' author Sebastian Junger shares his journey of exploration while hiking America's railroads.\n",
            "Predict: talk.politics.mideast\n",
            "\n",
            "\n",
            "\n",
            "Title: Minneapolis activist whose granddaughter was shot dead says city needs police\n",
            "Body: A Minneapolis activist whose 6-year-old granddaughter was killed by a stray bullet in her mother’s car outside a McDonald’s is pushing back against calls to defund the police, according to a new report.\n",
            "Predict: talk.politics.guns\n",
            "\n",
            "\n",
            "\n",
            "Title: New technology brings photos of US fallen soldiers to life\n",
            "Body: Genealogy website MyHeritage uses its photo tool Deep Nostalgia to animate photos of fallen soldiers for their families\n",
            "Predict: talk.politics.mideast\n",
            "\n",
            "\n",
            "\n",
            "Title: USO delivers morale-boosting meals to active-duty military during Fleet Week New York\n",
            "Body: For over 15 years, USO's Feed the Crew events have taken place as part of an effort to support the tri-state area's active-duty military and their ongoing service during Fleet Week.\n",
            "Predict: talk.politics.mideast\n",
            "\n",
            "\n",
            "\n",
            "Title: Virginia police arrest suspects in shooting that left military couple dead\n",
            "Body: Fairfax County police have arrested two people suspected of killing a married military couple in Virginia Wednesday morning.\n",
            "Predict: talk.politics.mideast\n",
            "\n",
            "\n",
            "\n",
            "Title: 'Cult mom' Lori Vallow Daybell deemed unfit to stand trial in murder case\n",
            "Body: An Idaho woman who was charged earlier this week with murdering her two children was deemed mentally incompetent to stand trial on Thursday.\n",
            "Predict: talk.politics.guns\n",
            "\n",
            "\n",
            "\n",
            "Title: Chilling surveillance footage shows alleged San Jose gunman moments before deadly shooting\n",
            "Body: The suspect in the mass shooting at a Northern California rail yard that left nine people dead Wednesday – including the shooter – was captured on camera earlier that morning leaving for work.\n",
            "Predict: talk.politics.guns\n",
            "\n",
            "\n",
            "\n",
            "Title: Fox News Flash top headlines for May 27\n",
            "Body: Fox News Flash top headlines are here. Check out what's clicking on Foxnews.com.\n",
            "Predict: rec.autos\n",
            "\n",
            "\n",
            "\n",
            "Title: Pennsylvania man hospitalized following fiery crash into gas pump\n",
            "Body: Crazy video shows the moment a man crashed into a gas pump at a gas station in Mount Pocono, Pa. on Wednesday.\n",
            "Predict: sci.space\n",
            "\n",
            "\n",
            "\n",
            "Title: Police: Armed school worker stops attempted kidnap suspect\n",
            "Body: The incident occurred Tuesday when a man grabbed an 11-year-old girl at a school playground in Ogden.\n",
            "Predict: talk.politics.guns\n",
            "\n",
            "\n",
            "\n",
            "Title: NC woman accused of striking Andrew Brown Jr. protesters appears in court, police weigh hate crime charges\n",
            "Body: A North Carolina woman accused of striking at least two protesters with her vehicle in Elizabeth City, where demonstrations have continued since the fatal deputy-involved shooting of Andrew Brown Jr., appeared in court Thursday, as police continue to investigate whether her actions justify a hate crime.\n",
            "Predict: talk.politics.guns\n",
            "\n",
            "\n",
            "\n",
            "Title: Harris Issues A 'Call To Action' To Invest In Central America\n",
            "Body: Vice President Harris met with a dozen companies and NGOs that have agreed to invest in Guatemala, Honduras and El Salvador. It's part of an effort to address the root causes of migration to the U.S.\n",
            "Predict: soc.religion.christian\n",
            "\n",
            "\n",
            "\n",
            "Title: Senate Is Poised To Approve A Major Science Funding Bill To Compete With China\n",
            "Body: The Innovation and Competition Act of 2021 allocates billions to scientific research and has strong bipartisan support. It could be a game changer for some U.S. cities.\n",
            "Predict: sci.space\n",
            "\n",
            "\n",
            "\n",
            "Title: A Vaccine Patch Could Someday Be An Ouchless Option\n",
            "Body: Scientists around the world are working on a way to inject vaccines painlessly. The trick is to make the needles so small. they don't interact with the nerve endings that signal pain.\n",
            "Predict: sci.med\n",
            "\n",
            "\n",
            "\n",
            "Title: An Alabama Man Is Suing A Deputy Because He Says Tight Handcuffs Led To An Amputation\n",
            "Body: The plaintiff says he repeatedly begged a Jefferson County sheriff's deputy to loosen the cuffs after losing feeling in his left hand. His hand was amputated 10 months later.\n",
            "Predict: soc.religion.christian\n",
            "\n",
            "\n",
            "\n",
            "Title: In New Italian Netflix Series 'Zero,' A Black Hero Makes Invisibility His Superpower\n",
            "Body: The series is Italy's first with a majority Black cast. Lead actor Giuseppe Dave Seke tells NPR that Zero is \"opening up a door in Italy that was just waiting to be opened.\"\n",
            "Predict: rec.sport.hockey\n",
            "\n",
            "\n",
            "\n",
            "Title: Tacoma Police Charged With Murder In Case Where Black Man Said He Couldn't Breathe\n",
            "Body: Two of the officers are charged with second-degree murder and another is charged with manslaughter. Manuel Ellis, a Black man, died after he was restrained and said he couldn't breathe.\n",
            "Predict: soc.religion.christian\n",
            "\n",
            "\n",
            "\n",
            "Title: You Can Still Count The Number Of Black CEOs On One Hand\n",
            "Body: Executives pledged to make diversity a priority, but the past year has highlighted how difficult it is to implement change in corporate America.\n",
            "Predict: soc.religion.christian\n",
            "\n",
            "\n",
            "\n",
            "Title: NPR Names KPCC's A Martinez As New Host For 'Morning Edition' And 'Up First'\n",
            "Body: NPR's newest radio host comes from member station KPCC in Los Angeles with a background in sports talk-radio and a commitment to telling stories about the immigrant experience.\n",
            "Predict: rec.sport.baseball\n",
            "\n",
            "\n",
            "\n",
            "Title: How Religion, Education, Race And Media Consumption Shape Conspiracy Theory Beliefs\n",
            "Body: A new survey from the polling firm PRRI breaks down conspiracy theory acceptance by religious group, level of education, and sources of news and information, among other things.\n",
            "Predict: soc.religion.christian\n",
            "\n",
            "\n",
            "\n",
            "Title: Colorado Becomes 1st State To Ban Legacy College Admissions\n",
            "Body: Colorado has become the first state to do away with legacy admissions in public colleges. The governor also ended a requirement that public colleges consider SAT or ACT scores for freshmen.\n",
            "Predict: talk.politics.guns\n",
            "\n",
            "\n",
            "\n",
            "Title: France's Macron Admits Some Guilt For Rwanda's Genocide\n",
            "Body: French President Emmanuel Macron solemnly detailed how France had failed the 800,000 victims of the genocide but he stopped short of an apology.\n",
            "Predict: talk.politics.mideast\n",
            "\n",
            "\n",
            "\n",
            "Title: International Travel Opens To The Vaccinated, But How Do You Prove You Got The Shot?\n",
            "Body: There's no universal digital passport yet, it's not clear exactly what kind of proof will be accepted, and paper vaccination cards can be easily forged, damaged or lost.\n",
            "Predict: soc.religion.christian\n",
            "\n",
            "\n",
            "\n",
            "Title: Senate Republicans Release $928 Billion Infrastructure Counteroffer\n",
            "Body: The move comes days after President Biden offered to lop off $550 billion from his original proposal, moving the two sides closer than they have ever been, though significant challenges remain.\n",
            "Predict: sci.crypt\n",
            "\n",
            "\n",
            "\n",
            "Title: 'Dear Son': How A Mom's Letter Inspired A Graduation Speech — From Prison\n",
            "Body: A student who has been incarcerated for more than 10 years delivers a graduation speech about forgiveness, perseverance and making the most of a future he sees as rich with potential.\n",
            "Predict: soc.religion.christian\n",
            "\n",
            "\n",
            "\n",
            "Title: We're Seeing A Spike In Workplace Shootings. Here's Why\n",
            "Body: Although they're still a statistical anomaly, one explanation for the latest uptick in killings is that with the COVID-19 pandemic, perpetrators have had time to plan their attacks, one expert says.\n",
            "Predict: soc.religion.christian\n",
            "\n",
            "\n",
            "\n",
            "Title: Ex-Penn State President Will Serve Jail Time In The Jerry Sandusky Child Abuse Scandal\n",
            "Body: Graham Spanier must report to a Pennsylvania jail in July to serve at least two months behind bars. He must also serve two months of house arrest.\n",
            "Predict: sci.crypt\n",
            "\n",
            "\n",
            "\n",
            "Title: In Wake Of Colonial Attack, Pipelines Now Must Report Cybersecurity Breaches\n",
            "Body: The action, the first of several planned steps by the federal government, follows the ransomware hack of the Colonial Pipeline.\n",
            "Predict: talk.politics.mideast\n",
            "\n",
            "\n",
            "\n",
            "Title: K-Pop Group BTS And McDonald's Launch Exclusive Meal And Clothing Line\n",
            "Body: The meal includes Chicken McNuggets, a medium order of french fries, a medium Coke and two new sauces inspired by McDonald's South Korea.\n",
            "Predict: sci.med\n",
            "\n",
            "\n",
            "\n",
            "Title: Zac Efron says goodbye to America, sells his LA house for $5.3 million\n",
            "Body: Zac Efron, who is settling into life in Australia, has seemingly said  goodbye to America as he reportedly sold his Los Feliz mansion for  $5.3 million. Zac Efron, who is in Australia to film his new project, sold his sprawling five-bedroom mansion in Los Feliz for $5.3 million, according to reports.The High School Musical star,  who is currently busy in filming his new project, reportedly listed the three-story compound in December for $15.9M before dropping a few hundred thousand off the ticket in March. The actor has reportedly sold his five-bedroom mansion for $5.3 million as he made up his mind to buy new property in Australia where he is busy  in shooting.The beautiful house was built in 1964 in the Oaks section of Los Feliz and offers extreme privacy. A long, gaited driveway opens to expansive views from downtown to the ocean, visible from every room in the house.The sweet home, which spans 5,644-square-feet,  has a gym, wine cellar and other features in the design.The primary suite is situated on the main level of the open concept home and near three additional bedrooms and bathrooms. Warm woods and wide expanses of glass offer peace and tranquility throughout the home which boasts an indoor and outdoor flow.Zac Efron has been busy exploring Tasmania, an island state detached from the Australian mainland, for his new Netflix series 'Down To Earth'.\n",
            "Predict: talk.politics.mideast\n",
            "\n",
            "\n",
            "\n",
            "Title: Zack Snyder reveals he had backup Batman if Ben Affleck rejected his offer to play iconic role\n",
            "Body: Zack Snyder opened up on his backup plan for Batman, saying  he had another actor in mind to play the popular role if Ben Affleck had turned the role down.The prominent filmmaker directed 2016’s Batman v Superman: Dawn of Justice, which saw the iconic character entering his mid-forties, portrayed by dashing star Affleck.Snyder, during his appearance on the Happy Sad Confused podcast, revealed that he half expected Affleck to turn down the role, and as a result had given another actor a call about the possibility of playing Bruce Wayne: Rust and Bone star Matthias Schoenaerts.“I was talking to [Matthias] a lot about it,” Snyder remembered. “He never got in the suit, but I did do a bunch of mock-ups of him, because Ben was on the fence.“And I don’t blame him,” he added of Affleck’s initial scepticism. “Everyone should be on the fence when you’re asked, ‘Do you want to play Batman?”Last week, Zack Snyder shared details about his future project, saying  he 'wants to make a female version of Darren Aronofsky’s The Wrestler starring Amy Adams.'\n",
            "Predict: soc.religion.christian\n",
            "\n",
            "\n",
            "\n",
            "Title: 'Dirilis:Ertugru'l: Aslihan Hatun actress praises Pakistani fashion designer Maria B\n",
            "Body: Turkish actress Gulsim Ali on Thursday said she's in love with \"Maria  B\" as she wore  the popular Pakistani brand  for her latest phot0-shoot.The  actress who plays Aslihan Hatun in \"Dirilis:Ertugrul\" looked stunning in her pictures shared on Instagram .Her post elicited response from Pakistani actress Ayeza Khan and famous fashion designer Maria   B, the owner of  the famous clothing brand.\"Beautiful,\" wrote  Ayeza Khan while commenting on Gulsim's picture. Maria  told the Turkish actress that she looks  stunning  and \"red is your  color\".Gulsim Ali's plays an important role in the historical TV series \"Dirilis:Ertugrul. Her   character is introduced in the season three of the popular show which is also being aired in Pakistan with Urdu dubbing.\n",
            "Predict: soc.religion.christian\n",
            "\n",
            "\n",
            "\n",
            "Title: Four-day work week could 'slash emissions' says UK campaign\n",
            "Body: LONDON: A study published in the UK has claimed that if the country switches to a four-day working week it could slash its annual greenhouse gas emissions by a quarter in four years.The report by the 4DayWeek campaign group released on Thursday claims that a transition from a five-day to four-day week with no loss of pay \"could shrink the UK´s carbon footprint by 127 million tonnes per year by 2025\" or 21.3 percent. This is equivalent to more than Switzerland´s entire carbon footprint, it said.The proposal comes as the lockdown period with many more working from home has prompted greater interest in flexible working and work-life balance. Some companies have trialled a four-day week.Greenpeace UK tweeted: \"I think this is something we can all get behind!\", while Green Party MP Caroline Lucas tweeted: \"An idea whose time has come.\"The report argues that a shorter week would lead to energy savings from less use of office equipment and less commuting in cars. Shorter hours would lead to a healthier lifestyle, with less consumption of fast food and less need for medical care, reducing the use of energy-intensive equipment, the report argues.There would also be a benefit to mental health, it argues: \"By freeing one day a week for non-work activities, it is also mental space that becomes more available.\"The report was commissioned by the campaign group from Platform, a UK-based activist and research group that campaigns for \"social and ecological justice\".The 4Day Week group likens the impact to the transition to a 35-hour working week in France in the early 2000s. It also examines a sharper decrease to 32 hours by 2025.Currently the average working week is 42.5 hours, it said.In Scotland, the pro-independence Scottish National Party is also considering a shift to a four-day working week, with party leader and First Minister Nicola Sturgeon saying it would promote better work-life balance and higher employment.The SNP government has vowed to help willing companies pilot such a move during this parliament.\n",
            "Predict: soc.religion.christian\n",
            "\n",
            "\n",
            "\n",
            "Title: Govt issues NOC to British Council to hold 'mini exams' for O Level students\n",
            "Body: The government on Thursday granted a No Objection Certificate (NOC) to the British Council to hold \"mini exams\" for O Level students from July 26 till August 6. The news about the NOC was announced by Federal Education Minister Shafqat Mehmood in tweet. \"We issued an NOC today to British Council allowing it to hold special O level exams from July 26 to August 6,\" said the minister along with the document.Mehmood said that the exams will allow \"O level students to start A level or FA/Fsc from September\" of this year and ensure that their year is not wasted. \"This kind of exam in July is unprecedented and I am happy that Cambridge is arranging it,\" the federal minister wrote.The document that was shared by the minister said that the NOC was issued after a letter was sent by the British Council with the request.\"British Council is fully authorised to conduct mini exams series from 26 July 2021 to 6 August 2021 subject to all approved/notified COVID-19 SOPs,\" reads the NOC.A few minutes after the announcement, the minister issued a separate tweet saying that the coronavirus pandemic has \"created immense difficulties in all walks of life but, especially in education\".Mehmood assured everyone that he was taking difficult decisions to make sure that the education and learning of students are not affected by the pandemic. \"Every decision has pros and cons but for us, the interest and welfare of students is always paramount,\" emphasised the education minister.The O Level exams were scheduled to take place this month but were delayed after a spike in coronavirus cases was seen across the country. Last month, Shafqat Mehmood had said that O level exams will be held in the October and November cycle and the same will be the case for A and AS level exams.\"Those students who wish to seek admission in Pakistani universities will be able to do so until January as the government will take the universities on board in this regard,\" the minister said.He, however, said students of A2 must appear in the examination right now, as deferment would lead to a wasted year.\"In this regard, the government has issued directives that no exam venue will have more than 50 people [to maintain adequate social distancing].\"\"Yesterday, we saw that some Cambridge exam centres violated the coronavirus standard operating procedures (SOPs),\" he said. \"Therefore, from Monday onwards, the government will ensure the deployment of law enforcement agencies outside of the exam centres to ensure compliance with the SOPs.\"At the end of the press conference, Shafqat Mehmood stressed that [irrespective of everything] exams are very important for students because they work hard throughout the year.\"All the education ministers unanimously decided that no promotions can be granted without exams, but for the sake of facilitating student [in times of crisis] the exams will be held in the October/ November session or after June/ July [in case of local students],\" Mehmood said.The Cambridge examinations had started on April 26 amid strong calls from the students and their parents to cancel exams considering the worsening COVID-19 situation in the country.Minister Shafqat Mehmood had said that the permission to hold exams was conditional on strict SOP observance. \n",
            "Predict: talk.politics.mideast\n",
            "\n",
            "\n",
            "\n",
            "Title: AGP Khalid Jawed Khan's driver passes away in Karachi after car rams into security camp\n",
            "Body: A driver of Attorney General for Pakistan Khalid Jawed Khan died on Thursday after a car rammed outside the AGP's house in Karachi’s Defence Housing Authority (DHA) neighbourhood.A CCTV footage of the incident showed that the accident took place at 3:52pm.The video showed two cars racing against each other when one of them went out of control and crashed into the camp erected outside the  AGP's house.SSP South Zubair Nazir Shaikh told reporters that the driver, who was inside the security camp outside the house — located on Khayaban-e-Shahbaz — was killed in the accident. He added that three others, including two policemen, were injured.The SSP said that the man driving the car was also injured in the accident and that all the wounded were rushed to a private hospital.Shaikh said that the car has been impounded and that the accident had taken place due to speeding.Soon after the accident, AGP Jawed arrived at the hospital and confirmed that his employee had died in the accident.\n",
            "Predict: talk.politics.guns\n",
            "\n",
            "\n",
            "\n",
            "Title: India claims Twitter undermining country's legal system \n",
            "Body: NEW DELHI: Indian government on Thursday claimed that the microblogging website Twitter was working to undermine the country's legal system, escalating a battle between authorities and social media giants over new IT rules.The US company accused police of \"intimidation\" after they visited its offices in the capital New Delhi to serve a notice over an inquiry into a \"manipulated media\" label it placed on a tweet by the ruling party´s spokesman.Twitter also slammed new regulations that its peers and digital rights activists say will threaten privacy guarantees.The government — which says they are needed to investigate offences relating to the country's sovereignty, national security as well as sexually explicit material — hit back and accused Twitter of seeking to \"undermine India´s legal system\".\"Twitter is just a social media platform and it has no locus in dictating what should India´s legal policy framework should be.\"The government added that \"representatives of social media companies including Twitter are and will always remain safe in India and there is no threat to their personal safety and security.\"Delhi Police added in a statement that Twitter was obliged under the law to cooperate with their inquiry and share \"material information\" about why the ruling party spokesman´s tweet had been tagged.'Big tech vs the Indian government'IT minister Ravi Shankar Prasad tweeted Thursday that the government fully respected the right to privacy and the new rules were aimed at preventing \"abuse and misuse of social media\".But critics say Prime Minister Narendra Modi's administration is seeking to stifle online opposition in what is a huge market for Twitter, Facebook and others — accusations the government rejects.The new rules demand that social media companies give details of the \"first originator\" of posts deemed to undermine India's sovereignty, state security or public order.Social media firms and privacy activists fear the rules' vagueness mean that the companies could be forced to identify the authors of posts critical of the government.Twitter has expressed particular concern about the requirement to name a compliance officer who would then be criminally liable for content, and has requested at least three more months to comply.\"(Just) as we do around the world, we will continue to be strictly guided by principles of transparency, a commitment to empowering every voice on the service, and protecting freedom of expression and privacy under the rule of law,\" a Twitter spokesperson said in an emailed statement.WhatsApp is challenging the law in India's courts, and says it would mean breaking encryption — a cornerstone of its service which prevents anyone other than the sender and receiver from being able to read messages sent on the platform.In a court filing this week, the Facebook-owned company said the rules infringed upon the \"fundamental rights to privacy and free speech of the hundreds of millions of citizens using WhatsApp\" in India.Digital rights activist Nikhil Pahwa told AFP the war of words was \"just the beginning of big tech versus the Indian government\".\"The people who suffer at the end of it are users... What I'd like to see is a reduction in power of (social media) platforms over our speech, but also not increasing the power of governments over platforms, because then governments can use them to censor us.\"\n",
            "Predict: sci.crypt\n",
            "\n",
            "\n",
            "\n",
            "Title: Eminem leaves fans excited as he announces to release 'Killer' remix \n",
            "Body: Eminem on Thursday left his fans excited as he announced  that he is releasing   a remix of his song \"Killer\".The Detroit rapper took to Twitter   to make the announcement . He also tagged rappers Jack Harlow and  Cordae, without revealing whether he has collaborated with them.“Killer” is the 13th track off Eminem’s 2020 project Music to Be Murdered By: Side B. Produced by the popular hip-hop producer d.a got that dope who also produced some other tracks of the project, most notably “Godzilla”.On the track, Eminem raps about his fortune and success through out his career while paying homage to multiple tracks and artists that helped him along the way. All the while Em frequently references famous serial killers for he is a true Killer of the industry!\"\n",
            "Predict: soc.religion.christian\n",
            "\n",
            "\n",
            "\n",
            "Title: UNHCR decides to investigate 'systematic' abuses in Israel, Palestine\n",
            "Body: The UN Human Rights Council on Thursday ordered to start an open-ended international probe into violations during the latest Gaza violence, and into \"systematic\" abuses in Palestine and inside Israel.The resolution, which passed with 24 of the council's 47 members in favour, will spur an unprecedented level of scrutiny on abuses and their \"root causes\" in the decades-long Middle East conflict.The text, which was presented by Pakistan on behalf of the Organisation of Islamic Cooperation (OIC), was debated during a special one-day council session focused on the surge in deadly violence between Israelis and Palestinians this month.Opening the session, UN rights chief Michelle Bachelet voiced particular concern about the \"high level of civilian fatalities and injuries\" from the attacks on Gaza, and warned the Israeli attacks on the enclave \"may constitute war crimes\".She also said Hamas's \"indiscriminate\" firing of rockets at Israel was \"a clear violation of international humanitarian law\".'Root causes'Before a truce took hold last Friday, Israeli air strikes and artillery fire on Gaza killed 254 Palestinians, including 66 children, and wounded more than 1,900 people in 11 days of conflict, the health ministry in Gaza says. A barrage of thousands of rockets and other fire from Gaza claimed 12 lives in Israel, including one child and an Arab-Israeli teenager, medics say. Some 357 people in Israel were wounded.Thursday's resolution ordered the launching of an investigation into violations surrounding the latest violence, but also into \"systematic\" abuses spurring a repetitive cycle of violence over the decades.The council agreed to establish \"an ongoing independent, international commission of inquiry... in the Occupied Palestinian Territory, including East Jerusalem and in Israel\".The investigators, the text said, should probe \"underlying root causes of recurrent tensions and instability, including systematic discrimination and repression based on group identity.\"The investigation should focus on establishing facts and gather evidence for legal proceedings, and should aim to identify perpetrators to ensure they are held accountable, it said.It also urges countries to \"refrain from transferring arms when they assess... that there is a clear risk that such arms might be used in the commission or facilitation of serious violations or abuses.\"Anti-Israeli bias? Before the vote Meirav Eilon Shahar, Israel's ambassador to the UN in Geneva, slammed the session and the text, insisting they were yet another example of the council's bias against Israel.The resolution, she insisted, \"has nothing to do with reality, has nothing to do with human rights\".She urged countries not to back the resolution, which she said would \"embolden and reward Hamas\", a \"racist, genocidal, terrorist organisation\".Israel, she insisted, \"took all measures to protect civilians\", but that Hamas's \"tactics of hiding beneath residential buildings, maternity wards and mosques resulted in the innocent loss of life\".\"You cannot be pro-Palestinian if you do not condemn Hamas,\" she said, stressing Israel's right to defend itself.Bachelet said her office had \"not seen evidence\" that the buildings targeted in Gaza, including medical facilities and media offices, were \"hosting armed groups or being used for military purposes\".Palestinian foreign minister Riyad al-Maliki meanwhile accused Israel of instituting \"an apartheid system\". \"The right to self defence and the right to resist occupation is a right we have as the Palestinian people,\" he said.Open-endedDuring the debate a wide range of countries decried the latest violence, stressing the need for urgent aid to Gaza and to resume talks towards a lasting, peaceful two-state solution. Many highlighted the 14-year blockade on Gaza, settlement expansion, and evictions and demolitions of Palestinian homes among root causes sparking continued tensions.This month's flare-up was ignited amid protests against the expulsion of Palestinians from their homes in the east Jerusalem neighbourhood of Sheikh Jarrah to make way for Jewish settlers.Tensions culminated in repeated clashes between Palestinian worshippers and Israeli security forces inside the Al-Aqsa mosque compound, triggering the initial volleys of rocket fire from Gaza towards Israel on May 10.Thursday's vote created the council's first ever open-ended commission of inquiry (COI) — the highest-level investigation that can be ordered by the council.Other COIs, like the one on Syria, need their mandates renewed every year.And while the council has previously ordered eight investigations into rights violations committed in the Palestinian territories, this is the first one with a mandate to examine \"root causes\" in the drawn-out conflict, and also to probe systematic abuses committed within Israel.\n",
            "Predict: talk.politics.mideast\n",
            "\n",
            "\n",
            "\n",
            "Title: Oscars delayed by a month as pandemic rules extended\n",
            "Body: The Oscars have been postponed for a second consecutive year, and relaxed eligibility rules allowing films to skip movie theaters will be kept in place due to the pandemic, the Academy said Thursday.The 94th Academy Awards will now take place on March 27, 2022, exactly a month later than originally planned, and are set to return to their traditional venue at Hollywood´s Dolby Theatre.After ratings nosedived for this year´s unusual, pandemic-affected Oscars -- which were held at a Los Angeles train station -- the postponement avoids potentially costly clashes with the Super Bowl and Winter Olympics.American football´s biggest event takes place in Los Angeles next year on February 13, while the global winter sports extravaganza is due to be held in Beijing from February 4-20.But the impact of Covid-19 -- which transformed Hollywood´s award season last year, shuttering movie theaters, delaying dozens of major films and forcing many ceremonies to go online -- also continues to be felt.Traditionally the Academy of Motion Picture Arts and Sciences requires at least a seven-day run in Los Angeles theaters for movies to be eligible for Hollywood´s biggest prize.With big screens closed, those rules were relaxed last year, in what was widely seen as a boost for movies on streaming platforms such as Netflix and Amazon´s Prime Video.\"This year, which is still impacted by the pandemic, eligibility requirements for the 94th Academy Awards will be consistent with the addendums made for the 93rd Awards season,\" said the Academy of Motion Picture Arts and Sciences in a statement.Films released at theaters in five major cities outside Los Angeles will remain eligible, and the changes are set to be extended into the following year´s Oscars, and potentially beyond. However, with US movie theaters now largely reopened and film production accelerating again, last year´s decision to extend the calendar window in which films can be released and still qualify for Oscars will not be repeated.Films wishing to contend for next year´s Oscars must be released by December 31. The Academy´s decision to delay could cause other major Hollywood award ceremonies to follow suit in a domino effect.But NBC has already announced that next year´s traditional season-opening Golden Globes will not be broadcast due to an ongoing row over the organizers´ record on diversity and transparency.-AFP\n",
            "Predict: rec.sport.hockey\n",
            "\n",
            "\n",
            "\n",
            "Title: Aima Baig, Shahbaz Shigri exude couple goals in latest snap\n",
            "Body: Pakistani singer Aima Baig exuded couple goals in her latest snap.Taking to Instagram, the vocal powerhouse shared an adorable snap with her fiance Shahbaz Shigri.The two love birds, who had taken the next step in their relationship and got engaged in March, looked adorable and in love as they smiled in each others’ arms.The singer expressed her love with a sweet caption.\"If you are lucky enough to find a weirdo. Never let them go... As they are a rare breed!\"The adorable photo prompted a reaction from fans and the fraternity alike. \"Cuties,\" Amna Ilyas commented. Model Sadaf Kanwal sent her love to the couple by commenting heart emojis. Take a look:A post shared by Aima Baig (@aima_baig_official)\n",
            "Predict: soc.religion.christian\n",
            "\n",
            "\n",
            "\n",
            "Title: Gigi Hadid looks back at pregnancy with adorable photos \n",
            "Body: Supermodel Gigi Hadid melted fans’ hearts with her most latest snaps on Instagram.The stunner could be seen sharing throwback snaps of her pregnancy with baby Khai.The then-mother-to-be looked gorgeous as she glowed while cradling her baby bump.“This week, last year,” she captioned the post.The model had remained fiercely private about showing her little girl and often teases fans with some glimpses here and there.\n",
            "Predict: soc.religion.christian\n",
            "\n",
            "\n",
            "\n",
            "Title: Sarah Khan leaves fans stunned in latest snap\n",
            "Body: Pakistani star Sarah Khan turned heads in her latest snap.Taking to Instagram, the star shared an adorable snap of herself dressed to the nines, looking absolutely gorgeous.The star was sure to turn heads as she dazzled in the light-coloured outfit.The photo was sure to leave fans dazed a they showered her with compliments. \"Prettiest mom to be!\" a user wrote.  \"We love you,\" another wrote.A post shared by Mrs.Falak (@sarahkhanofficial)\n",
            "Predict: soc.religion.christian\n",
            "\n",
            "\n",
            "\n",
            "Title: Sinopharm vaccine being administered in Pakistan, health ministry assures citizens\n",
            "Body: Ministry of National Health Services Regulations and Coordination on Thursday assured citizens that the Sinopharm vaccine is available in Pakistan after several days of rumours circulating that it is no longer available or is not being administered to people.According to a statement issued by the ministry on Twitter, the Sinopharm vaccine is available in Pakistan and is currently being administered to people.The statement said that all such rumours that Sinopharm is no longer available in the country are false.It added that people who were given Sinopharm as their first dose, will be administered Sinopharm for their second dose.The ministry further said that Pakistan is working to acquire more doses of Sinopharm.Earlier this month, as people complained that the vaccine is unavailable and reports of it being banned in Pakistan emerged, Sindh government spokesperson Murtaza Wahab had clarified it is not banned, and simply fresh doses of the vaccine had been \"stopped for the time being\".The government on Wednesday opened up its coronavirus vaccination campaign to everyone aged 19 or older.Pakistan initially had to deal with vaccination hesitancy and a shortage of vaccine supplies and had limited shots to people aged 30 or over.Follow these steps to get registered for coronavirus vaccine in PakistanBut with purchases and donations from China and allocations from the World Health Organisation and the GAVI Vaccine Alliance, it has now secured more than 18 million doses and is keen to get them out into the population.\"We decided to open up vaccination registration for all 19 years and above,\" Asad Umar, minister in-charge of supervising anti-COVID operations, said in a post on Twitter.People can sign up from Thursday, he said.\"So now registration will be open for the entire national population which is approved by health experts for COVID vaccination,\" Umar said.Pakistan has reported more than 900,000 coronavirus infections since the outbreak.In the last 24 hours, 62,706 tests were conducted for coronavirus out of which 2,726 returned positive.At least 75 more people have lost their lives to coronavirus in the last 24 hours, pushing the total death tally to 20,540 across the country.The country has administered 5.3 million vaccine doses with supplies from three Chinese companies — Sinopharm, Sinovac and CanSinbio — and the Oxford-AstraZeneca shots.Pakistan's private sector has imported nearly 50,000 doses of Russia's Sputnik-V vaccine.\n",
            "Predict: talk.politics.mideast\n",
            "\n",
            "\n",
            "\n",
            "Title: Prince William forced into ‘even stricter’ dress code than Kate Middleton: report\n",
            "Body: The picture of Prince William’s covid-19 jab recently caused a major stir online and experts believe they now understand the real reason behind his ‘strict’ dress code.The claim was made by Royally Us podcast hosts Christina Garibaldi and Molly Mulshine.Ms. Garibaldi was the first one to  comment on the rule and admitted, “[William's] biceps were on full display as he received the COVID-19 vaccine. A lot of people had a lot to say on social media about it.\"“I've never seen him shirtless. We never see him on the beach or anything like that. It was really interesting because we hear so much about the dress code for royal women. But he couldn't even wear short sleeves to get his vaccine. So maybe it's even stricter for royal men.”Even Ms. Mulshine agreed with the observation and admitted, “I think the only time we ever see them in short sleeves is when they're playing polo. And they don't even really do that that often that we see.”\n",
            "Predict: soc.religion.christian\n",
            "\n",
            "\n",
            "\n",
            "Title: PSL 2021 to be staged in Abu Dhabi after several setbacks\n",
            "Body: KARACHI: The remainders of the Pakistan Super League (PSL) 2021 seem to be back on track after the Pakistan Cricket Board (PCB) — following a series of hiccups and several obstacles — got approval to land two flights from South Africa and India in the United Arab Emirates (UAE).These games were looking almost uncertain till Thursday afternoon when it came to light that the two chartered flights from South Africa and India — carrying cricketers and production team members — were not allowed to land in the UAE.The uncertainty had forced PCB to change the schedule of chartered flights from Lahore and Karachi.Two flights, nevertheless, took off at 5 pm, simultaneously from Lahore and Karachi, carrying 202 passengers, including players, officials, support staff, and other participants of the league.However, 25 passengers — including former captain Sarfaraz Ahmed — had to stay back in hotels as they couldn’t get their visas on time.Other cricketers who are yet to receive their visas include Mohammad Musa, Umar Amin, Mohammad Hasnain, Asif Afridi, Zaid Alam, Zeehsan Ashraf, Abrar Ahmed, Imran Randhawa, Aamir Khan, and Mohammad Haris.The PCB is confident of receiving visas for the remaining passengers soon and it has announced it will arrange another chartered flight to transport the remaining players and officials to the UAE.The cricket board took a breath of relief on Thursday evening when the UAE authorities granted permission to chartered flights from South Africa and India to land in Abu Dhabi.These flights will be carrying South African cricketers and members of the production team.The PCB is now in the process of finalising the quarantine protocols for all the participants, with a source saying that after two additional days of room isolation in Pakistan, the quarantine in UAE may be reduced to five days with the PCB expected to consult its medical panel.“UAE regulation for quarantine is five days. PCB medical board’s recommendation/PSL COVID protocol was seven days,” the source said.If the production crew and South African cricketers manage to land in UAE by Friday afternoon, they will have Friday counted as the first day of their 10-day mandatory quarantine period.The PCB is holding discussions to allow the production crew a bubble-to-bubble arrangement to make pre-production preparations.A final schedule for the remaining matches will be announced only after everything is streamlined and, according to PCB, it may take another day or two.\n",
            "Predict: talk.politics.mideast\n",
            "\n",
            "\n",
            "\n",
            "Title: Matthew Perry would ‘freak out’ if audience didn’t laugh on ‘Friends’ stage\n",
            "Body: Matthew Perry recently got candid about his fears while on air with Friends and even admitted to being utterly mortified if the audience didn’t laugh alongside him.The actor got candid on HBO Max's Friends reunion special  and even told  TV host James Corden, “To me, I felt like I was going to die if they didn't laugh.\" \"And it's not healthy, for sure. But I would sometimes say a line and they wouldn't laugh and I would sweat and just go into convulsions. If I didn't get the laugh I was supposed to get, I would freak out.\"“I felt like that every single night. Because I was like, 'Somebody's getting a laugh, I can't handle it — I need to get a laugh, too'.”\n",
            "Predict: soc.religion.christian\n",
            "\n",
            "\n",
            "\n",
            "Title: Bilawal lambastes PM Imran, says he put country's future at risk through obtaining loans\n",
            "Body: PPP Chairman Bilawal Bhutto said Thursday Prime Minister Imran Khan had enslaved the whole nation to the international lenders and put the country's future at stake.Bilawal, in a statement, said PM Imran Khan is carrying a \"begging bowl\" to Washington, Riyadh, Dubai, and Beijing to \"tarnish\" the country's prestige.The PPP chairman said the prime minister was putting the country at risk for generations to come by running the state's economy on loans.\"In 2021 alone, the selected PM has borrowed 10 billion dollars with a sharp increase of 35%. This ... PM has overseen Pakistan's external debt increasing to $116 billion from $95 billion with the increase of $21 billion,\" he said.“Pakistan will never be able to repay these debts, even if all national assets are mortgaged to our creditors. This puts Pakistan in a precarious position, from which the country might not recover.”The PPP chairman said people may not realise it now, but the next generations would suffer under the burden of this vast accumulated debt.\"To add insult to injury, the federal cabinet — which happens to be the epitome of corruption — is squandering this borrowed money. The cabinet and the PM’s crony capitalist mafias are embezzling money from the public exchequer,\" he added.Bilawal warned the prime minister to pay heed to the plight of the underprivileged and must see what he has done to the common salaried class and the daily-wage earners who can no longer feed their families because of the skyrocketing inflation.\"What little they earn, can no longer sustain them. While Imran Khan galavants across the country and the world, the people he is meant to serve are left to rot in hell,\" Bilawal added.Current fiscal year's loansPakistan has so far obtained $10.19 billion (Rs1,571 billion) external inflows from all multilateral, bilateral creditors and through raising international bonds during the first 10 months (July-April) of the current fiscal year 2020-21.Out of $10.19 billion inflows, Islamabad received a major chunk to the tune of $9.97 billion in the shape of foreign loans from all creditors and only fetched $222 million in the shape of grants.The government had envisaged total external inflows of $12.233 billion for the whole financial year 2020-21, both in the shape of loans and grants. Almost one third to the tune of $3.246 billion were obtained through expensive commercial borrowings so far in the current fiscal year.Commercial borrowing from banks is being used as bridge financing for meeting the overall external financing requirements.\n",
            "Predict: talk.politics.mideast\n",
            "\n",
            "\n",
            "\n",
            "Title: IHC rejects plea to stop Ali Zafar's probe into Jahangir Tareen\n",
            "Body: ISLAMABAD: The Islamabad High Court (IHC) on Thursday dismissed a petition seeking to stop Barrister Ali Zafar from investigating Jahangir Tareen, declaring it non-maintainable.IHC Chief Justice Athar Minallah expressed annoyance over petitions being filed which waste the court's time when the IHC has thousands of cases pending.The case had been filed by a citizen Fahad Shahid.At the outset of hearing, the chief justice instructed Deputy Attorney General Tayyab Shah to assist the bench pertaining to the case after studying it.The DAG adopted the stance that the petitioner was not an affected party in the subject.He said that an irrelevant person couldn’t file a case in criminal matters.The DAG said that the court shouldn’t hear such \"strange and irrelevant\" cases.The chief justice expressed displeasure at the court's time being wasted and remarked that the criminal proceedings, in any case, were going on in Lahore which does not fall under IHC’s jurisdiction.\"How will the common litigants get justice if such type of petitions are filed?\" he questioned.After this, the court dismissed the case declaring it non-maintainable.Barrister Ali Zafar was tasked last month by Prime Minister Imran Khan to probe allegations by Tareen — and party members who support him — that they have been targeted and politically victimised by state institutions and government representatives in high positions, especially Shahzad Akbar, the premier's aide on accountability.The Federal Investigation Agency is conducting a probe into a \"sugar scam\" that led to a shortage of the commodity and prices rocketing sky high.The FIA in March last year, filed two cases against Tareen and his son Ali Tareen, on charges of Rs5 billion money laundering and fraud in the said scam. Both are on interim bail till May 31.As speculation around Zafar's investigation grew, rumours of a report already having been handed in began to surface.Addressing such rumours, Zafar had a day earlier provided a clarification on Twitter.\"Let me make it clear that there is no report submitted by me. Any findings, not [necessarily] in writing, shall be purely internal to the PTI and have no legal value or status nor can the same have any relevance to or effect pending enquiries/investigations against the sugar barons or Mr Tareen,\" Zafar wrote.The senator added that \"there is no room for concessions against corruption\" as per the government policy set out by Prime Minister Imran Khan.Zafar stated that he has been tasked to look into the complaints made by Tareen, adding that he will submit his \"recommendations directly and only to the PM\" once his probe concludes.\n",
            "Predict: talk.politics.mideast\n",
            "\n",
            "\n",
            "\n",
            "Title: Friends: David Schwimmer and Jennifer Aniston reveal why they never got together as a couple\n",
            "Body: Seventeen years after  the final episode of  hit sitcom Friends  was aired, actors   David Schwimmer and Jennifer Aniston have revealed that  they had major crushes on each other.The revelation was made  as the cast of the show  reunited for a special episode of \"Friends\".The pair also shared why they avoided dating when they used to work together and the fact that the attraction was mutual.Schwimmer and Aniston said  they never got together as a couple off-screen because they were both in relationships or between relationships with other people.Co-stars Matt LeBlanc, Matthew Perry, Courteney Cox and Lisa Kudrow said they knew of their feelings for each other.Explaining reason why they didn't get together, Schwimmer who played Ross Geller said one of them was always in a relationship. \n",
            "Predict: soc.religion.christian\n",
            "\n",
            "\n",
            "\n",
            "Title: Scott Disick 'still in love' with Kourtney Kardashian despite Amelia Hamlin relationship\n",
            "Body: Scott Disick seems to still have some lingering feelings for his ex-girlfriend Kourtney Kardashian.According to E! the Poosh founder’s new “serious” romance with Blink-182 drummer Travis Barker has put things into perspective for Scott as his feelings for Kourtney are more visible despite his relationship with Amelia Hamlin.“Kourtney will always be there for Scott no matter what their relationship is, but there is definitely still tension between them. They are great about putting it on for the kids and around the family,\" the source said. \"When they see each other, they are always cordial and you can tell Scott misses Kourtney a lot. Everyone knows Scott is still in love with her.The source added that the reality TV star has no interest in befriending her ex's teenage girlfriend. “Amelia was, of course, invited to his party but her and Kourtney do not necessarily have a relationship,” the source said. “Kourtney is cordial. There's no bad blood, but they just kept to themselves at the party. Kourtney doesn't mind having her around. She's just not looking to get close with her.”\n",
            "Predict: soc.religion.christian\n",
            "\n",
            "\n",
            "\n",
            "Title: Bamsi's death leaves 'Kurulus:Osman' fans teary-eyed \n",
            "Body: The latest episode of Turkish TV series   \"Kurulus:Osman\" left fans teary-eyed as it featured the death of one of their favorite characters.Social media websites were flooded with   posts  praising   Nurettin Sönmez who essayed the role of Bamsi Bey, a Turkish warrior  and close to  Ertugrul and his son Osman.Bamsi is killed while fighting a contingent of a Mangol army in the  latest episode which aired on Wednesday.\n",
            "Predict: talk.politics.mideast\n",
            "\n",
            "\n",
            "\n",
            "Title: Nick Jonas weighs in on the moments following bike accident\n",
            "Body: Hollywood singer and lyricist Nick Jonas recently weighed in on his bike accident as well as how he ended up breaking the news to his wife Priyanka Chopra.The singer weighed in on the entire ordeal during his appearence on The Jonas Corden Show with the Jonas Bothers.He was quoted saying,“Basically I was there, and the medics were kind of attending to me. I was about to be put on the gurney to get into the ambulance, and obviously I had to call Priyanka, my wife, to say this has happened, but obviously I wasn't really in a spot where I could talk to her.”“So it was a choice between Joe and Kevin. Who do you give your phone to call your wife in a time of crisis? And I gave it to Kevin.\"\n",
            "Predict: soc.religion.christian\n",
            "\n",
            "\n",
            "\n",
            "Title: Prince Harry believes all the ‘bad’ with Meghan Markle ‘comes back to the same people’\n",
            "Body: Prince Harry recently admitted to the belief that everything bad that Meghan Markle suffered through during her time within the palace “comes back to the same people.”The prince weighed in on his wife's pain during the debut of his AppleTV+ docuseries titled The Me You Can't See.There he was quoted saying, “My biggest regret is not making more of stance earlier on in my relationship with my wife and calling out the racism when I did,.”“History was repeating itself. My mother was chased to her death while she was in a relationship with someone that wasn't white. And now look what's happened. You wanna talk about history repeating itself?”“They're not gonna stop until she dies. It's incredibly triggering to potentially lose another woman in my life. Like, the list is growing. And it all comes back to the same people, the same business model, the same industry.”“And my father used to say to me when I was younger, he used to say to both William and I, 'Well it was like that for me, so it's gonna be like that for you.' That doesn't make sense. Just because you suffered that doesn't mean that your kids have to suffer. In fact, quite the opposite.”“If you suffered, so everything you can to make sure that whatever experiences, negative experiences that you had that you can make it right for your kids.”Before concluding Prince Harry added, “There was no option to leave. Eventually when I made that decision for my family, I was still told 'You can't do this'.”“And it's like 'Well, how bad does it have to get until I am allowed to do this?' Where she was going to end her life. And shouldn't have to get to that. We chose to put our mental health first. That's what we're doing, and that's what we'll continue to do.”\n",
            "Predict: soc.religion.christian\n",
            "\n",
            "\n",
            "\n",
            "Title: Kourtney Kardashian exposes Kendall Jenner for returning her gifts\n",
            "Body: Kourtney Kardashian hilariously recalled how her sister Kendall Jenner returned her pricey gifts.In a sneak peek of Keeping Up With the Kardashians the Poosh founder shared to her sisters Kim Kardashian and Khloe Kardashian how the supermodel returned all her pricey gifts of dishware.\"So I started her this collection of Hèrmes China last year for her birthday. I got her like tea cups and a tea pot and all the tea stuff. And then for Christmas, I added to it and got her all the serving platters, so I was thinking I could add to it and get the dishes,\" she said. Kourtney continues, \"We called Hèrmes and I was like, 'Can you send me photos of what I didn't get yet?' and then they just said, 'I can absolutely do that but she returned everything that you got her.'\"Khloe looked stunned as she said \"stop!\" while Kim bit back a laugh.\"I, like, literally picked out each dish with thought and care,\" Kourtney said. When asked what Kendall's reaction to Kourtney's gifts were, the reality TV star said, \"She liked them!\" Khloe then pointed out how the two sisters' tastes are completely different. \"She's young, she's not like...like, we love china because we have like dinner parties,\" she said. \"In a few years she'll wish that she had it,\" Kourtney said.There seemed to be no ill will as Kourtney even dished out a prank idea. \"I want to be like, 'You think the joke's on me, you keep returning it. The joke's on you because I'm going to keep buying it!'\" Kourtney laughs. \"I just want to give it to her again to see her reaction.\"\n",
            "Predict: soc.religion.christian\n",
            "\n",
            "\n",
            "\n",
            "Title: ‘Friends’ co-stars Courteney Cox, Matthew Perry dubbed ‘distant cousins’ in genealogy report\n",
            "Body: Friends co-stars Courteney Cox and Matthew Perry have recently been ousted as distant cousins and the internet is in a frenzy over the finding.The genealogy report was brought forward by CNN and it cites research done by genealogy website MyHeritage.Roi Mandel, the head of research at MyHeritage recently spoke to the outlet about their findings and admitted that the results came back ironclad after exhaustive research, and in-depth analysis on birth and death certificates,Mr Roi even claimed, “We went into this line very deeply, we checked every name. We found a lot of records that support it, and we have confidence that they are related.”\n",
            "Predict: soc.religion.christian\n",
            "\n",
            "\n",
            "\n",
            "Title: UNGA to not sit idly until peace restored in Middle East: Volkan Bozkir\n",
            "Body: United Nations General Assembly President Volkan Bozkir on Thursday held a joint press conference with Foreign Minister Shah Mehmood Qureshi in Islamabad and said that the UNGA will not sit idly until peace is restored in the Middle East.Referring to the issue of Palestine, Bozkir said that the UN's inaction on the issue of Palestine is hurting its credibility.\"Inaction on the issue of Palestine, which is a grave matter, is damaging the credibility of the United Nations and the Security Council,\" Bozkir said, adding that it is hoped that the Security Council will also hear a unanimous vote on this important and necessary issue.\"Hundreds of Palestinians have been killed in blatant human rights abuses,\" Bozkir said. \"Negotiations are urgently needed to establish two independent states. The UN General Assembly will not sit idly until peace is restored in the Middle East,\" he said.The UNGA Secretary-General also spoke about the Kashmir issue and said that he is well-aware of the situation in Jammu and Kashmir, adding that he knows who a common Pakistani feels about the issue. \"I have always urged the parties to refrain from changing the status of the disputed territory. I urge India and Pakistan to work for a peaceful solution to this problem,\" he said, adding that peace, stability and prosperity hinge on the normalisation of relations between Pakistan and India through the resolution of the Jammu and Kashmir dispute.Bozkir also spoke about the coronavirus pandemic and said that the coronavirus vaccine is equally needed by rich and poor countries, adding that governments' efforts are yielding results.Regarding Afghanistan, Volkan Bozkir said that peace in the country is imperative for stability in the region. \"The Afghan peace process should be Afghan-owned and Afghan-led,\" he said while appreciating Pakistan's role in the peace process in Afghanistan. PM Imran Khan meets PGA BozkirPrime Minister Imran Khan also had a meeting with PGA Bozir in Islamabad today, the Prime Minister's Office said in a statement. A wide range of issues was discussed during the meeting pertaining to regional and international peace and security, sustainable development, and economic recovery efforts in the wake of the COVID-19 pandemic.Views were exchanged on key items on the UN agenda such as Palestine, the Jammu and Kashmir dispute, the Afghan peace process, and illicit financial flows from proceeds of crime, corruption, and bribery, the statement said. The PM lauded the role of PGA in convening the special meeting of the GA on Palestine, stressing that following the announcement of the ceasefire, steps should be taken to revive the peace process and ensure a just and lasting solution in line with relevant UN resolutions and two-state vision.The PM underscored Pakistan’s strong commitment to multilateralism with the UN playing a central role. He highlighted the need for enhanced international cooperation, under the UN auspices, to address climate change and environmental degradation, as well as debt relief to support the developing countries’ economic recovery efforts and attainment of SDGs by the target date of 2030.Bozkir briefed Prime Minister Khan on the various initiatives undertaken during his presidency of the UN General Assembly to address key international political and socio-economic issues.It should be recalled that PGA Bozkir had reached Pakistan on a three-day visit at the invitation of Foreign Minister Shah Mahmood Qureshi a day ago (Wednesday, May 26).He landed in the country after concluding his visit to Bangladesh.\"After an important and fruitful official visit to Bangladesh, I arrived in Islamabad for my official visit to Pakistan,\" Bozkir had said. \"I look forward to my important meetings in Islamabad.\"Bozkir is the first Turkish national to preside over the UN General Assembly. He is a former diplomat and a senior politician.Following his 39-year long illustrious diplomatic career in the Turkish Foreign Service, Bozkir was elected thrice as a member of the Turkish Parliament and has served as the Chairman of the Parliamentary Foreign Affairs Committee and EU Affairs minister.He last visited Pakistan in August 2020 before taking up the position of president of the UNGA.“The visit of the PGA would lend an opportunity to showcase Pakistan’s active contributions to multilateralism and the central role of the United Nations in international affairs,” the Foreign Office had said in a statement.\n",
            "Predict: talk.politics.mideast\n",
            "\n",
            "\n",
            "\n",
            "Title: Zinedine Zidane steps down as Real Madrid coach\n",
            "Body: Zinedine Zidane has stepped down as Real Madrid manager with immediate effect, the Spanish club said Thursday just days after they were beaten to the La Liga title by Atletico Madrid.The Frenchman's departure comes at the end of a disappointing campaign for the 13-time European champions, who also lost to Chelsea in the Champions League semi-finals, as they failed to win a trophy for the first time in 11 seasons.\"We must now respect his decision and express our gratitude for his professionalism, dedication and passion over the years and what he means to Real Madrid,\" a club statement said.\"Zidane is one of Real Madrid's great icons and his legacy extends beyond what he has achieved as a coach and player at our club. He is aware that he has a place in the hearts of the Real Madrid fans and that he will always have a home at Real Madrid.\"Zidane's contract expires in 2022 but he had repeatedly refused to confirm he will still be at the club next season.Only 10 days ago he denied press speculation he had already told his players he would be leaving at the end of the season.\"How am I going to tell my players that I am going now? It's a lie,\" he said after a 1-0 win at Athletic Bilbao.\"I'm focused on this season. There is a game left and we are going to give everything. I only care what happens in this finale,\" he said at the time.But, perhaps tellingly, he added: \"The rest, we will see at the end of the season.\"Big boots to fillThe announcement marks the end of Zidane's second spell in charge of the Spanish giants.The 1998 World Cup winner first took the helm in January 2016 and guided Real to the 2017 La Liga title and an unprecedented hat-trick of Champions League titles before abruptly quitting on May 31, 2018, saying the club needed \"a different voice\".Less than a year later he returned after Julen Lopetegui and Santiago Solari were sacked as managers in quick succession.During his second stint as Real coach, Zidane's task was to rebuild the club after Portuguese star striker Cristiano Ronaldo moved to Juventus.Real Madrid president Florentino Perez opened the coffers, signing playmaker Eden Hazard from Chelsea as well as several other rising stars such as Eder Militao, Luka Jovic and Ferland Mendy.But Hazard has been injured for most of the season and most of the other new recruits disappointed, with Zidane forced to rely on veteran players such as Sergio Ramos and Raphael Varane in defence and Karim Benzema in attack.The squad was also plagued with injuries and eight cases of Covid-19, all of which led to a rollercoaster performance this year.'Proud and honoured'In a tweet, Benzema thanked Zidane \"for everything you have given me both professionally and personally.\"\"I am proud and honoured to have been able to advance and grow with the man that you are. See you,\" he added along with the hashtags \"#legend#king\".Zidane has a history of making surprise announcements: as a player, he initially announced his retirement from international football in 2004 before coming back for the 2006 World Cup, after which he retired for good following his infamous headbutt on Italy's Marco Materazzi as France lost in the final.He may now take another break from football although there has been talk of him either taking charge of the French national team or taking the helm at Juventus, where he spent five years as a player.Juventus though have suffered financial pain as a result of the Covid-19 pandemic and might not be in a position to entice him.And Didier Deschamps is likely to remain France coach until the 2022 World Cup in Qatar, barring a disastrous performance at the European Championship that kicks off next month.As to who will fill Zidane's boots at Real Madrid, several names have come up: former Juventus coach Massimiliano Allegri, ex-Madrid striker Raul Gonzalez or Joachim Loew, who steps down as Germany coach at the end of this summer's European Championships.\n",
            "Predict: rec.sport.hockey\n",
            "83\n"
          ],
          "name": "stdout"
        }
      ]
    },
    {
      "cell_type": "markdown",
      "metadata": {
        "id": "OewcIljtpiTC"
      },
      "source": [
        "**Guardar el modelo**"
      ]
    },
    {
      "cell_type": "code",
      "metadata": {
        "id": "pNca3KCxnR0l"
      },
      "source": [
        "import pickle\n",
        "\n",
        "# Save the model\n",
        "Pkl_Filename = \"model.pkl\"  \n",
        "with open(Pkl_Filename, 'wb') as file:  \n",
        "    pickle.dump(model, file)"
      ],
      "execution_count": null,
      "outputs": []
    },
    {
      "cell_type": "code",
      "metadata": {
        "colab": {
          "base_uri": "https://localhost:8080/"
        },
        "id": "yRwNvbDnnm0G",
        "outputId": "8a93ab64-c638-4637-8559-d86b1e323122"
      },
      "source": [
        "# Load the Model back from file\n",
        "with open(Pkl_Filename, 'rb') as file:  \n",
        "    load_model = pickle.load(file)\n",
        "\n",
        "load_model"
      ],
      "execution_count": null,
      "outputs": [
        {
          "output_type": "execute_result",
          "data": {
            "text/plain": [
              "Pipeline(memory=None,\n",
              "         steps=[('tfidfvectorizer',\n",
              "                 TfidfVectorizer(analyzer='word', binary=False,\n",
              "                                 decode_error='strict',\n",
              "                                 dtype=<class 'numpy.float64'>,\n",
              "                                 encoding='utf-8', input='content',\n",
              "                                 lowercase=True, max_df=1.0, max_features=None,\n",
              "                                 min_df=1, ngram_range=(1, 1), norm='l2',\n",
              "                                 preprocessor=None, smooth_idf=True,\n",
              "                                 stop_words=None, strip_accents=None,\n",
              "                                 sublinear_tf=False,\n",
              "                                 token_pattern='(?u)\\\\b\\\\w\\\\w+\\\\b',\n",
              "                                 tokenizer=None, use_idf=True,\n",
              "                                 vocabulary=None)),\n",
              "                ('multinomialnb',\n",
              "                 MultinomialNB(alpha=1.0, class_prior=None, fit_prior=True))],\n",
              "         verbose=False)"
            ]
          },
          "metadata": {
            "tags": []
          },
          "execution_count": 15
        }
      ]
    },
    {
      "cell_type": "code",
      "metadata": {
        "id": "RLTRKD6ToBIi"
      },
      "source": [
        "# Predicting category on load model\n",
        "def predict_load_category(s, train=train, model=load_model):\n",
        "  pred = load_model.predict([s])\n",
        "  return train.target_names[pred[0]]"
      ],
      "execution_count": null,
      "outputs": []
    },
    {
      "cell_type": "code",
      "metadata": {
        "colab": {
          "base_uri": "https://localhost:8080/",
          "height": 36
        },
        "id": "G98Ilyc3oKsN",
        "outputId": "ac97decd-bec9-473e-f867-7108a1429c67"
      },
      "source": [
        "# Testing the load model\n",
        "predict_load_category('Car')"
      ],
      "execution_count": null,
      "outputs": [
        {
          "output_type": "execute_result",
          "data": {
            "application/vnd.google.colaboratory.intrinsic+json": {
              "type": "string"
            },
            "text/plain": [
              "'rec.autos'"
            ]
          },
          "metadata": {
            "tags": []
          },
          "execution_count": 17
        }
      ]
    }
  ]
}